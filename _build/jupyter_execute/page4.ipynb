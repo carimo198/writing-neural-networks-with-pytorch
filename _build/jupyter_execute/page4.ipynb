{
 "cells": [
  {
   "cell_type": "markdown",
   "metadata": {},
   "source": [
    "## References \n",
    "\n",
    "Paszke, A, et al. 2019, PyTorch: An Imperative Style, High-Performance Deep Learning Library, *Neural Information Processing Systems*, no. 32, pp. 8024–8035, accessed 10 September 2021, [article URL](http://papers.neurips.cc/paper/9015-pytorch-an-imperative-style-high-performance-deep-learning-library.pdf).\n",
    "\n",
    "Lane, H, Howard, C and Hapke, H 2019, *Natural Language Processing in Action*, Manning Publications, Shelter Island, NY, USA. \n",
    "\n",
    "Pennington, J, Socher, R and Manning, CD 2014, *GloVe: Global Vectors for Word Representation*, [website](http://nlp.stanford.edu/projects/glove/).\n",
    "\n",
    "Graves, A 2011, Practical Variational Inference for Neural Networks, *Advances in Neural Information Processing Systems 24*, pp. 2348-2356, accessed 7 October 2021, [article URL](http://proceedings.neurips.cc/paper/2011/file/7eb3c8be3d411e8ebfab08eba5f49632-Paper.pdf).\n",
    "\n",
    "Glassner, A 2021, *Deep Learning: A Visual Approach*, No Starch Press, San Francisco, Ca, USA.\n",
    "\n",
    "He, K, Zhang, X, Ren, S & Sun, J 2015, Delving deep into rectifiers: Surpassing human-level performance on imagenet classification, *Proceedings of the IEEE International Conference on Computer Vision*, pp. 1026-1034, accessed 10 September 2021, [article URL](http://arxiv.org/pdf/1502.01852.pdf).  \n",
    "\n",
    "Graves, A & Schmidhuber J 2005, Framewise Phoneme Classification with Bidirectional LSTM Netwroks, *Neural Networks*, vol 18, no. 5-6, pp. 602-610, accessed 10 September 2021, [article URL](https://www.sciencedirect.com/science/article/abs/pii/S0893608005001206).\n",
    "\n",
    "Pointer, I 2019, *Programming PyTorch for Deep Learning: Creating and Deploying Deep Learning Applications*, O'Reilly Media, Sebastopol, CA, USA. "
   ]
  }
 ],
 "metadata": {
  "interpreter": {
   "hash": "508f393c7a025996352bc13b3d7688f09bc2443eb91136648ba5fac73ca32952"
  },
  "kernelspec": {
   "display_name": "Python 3.9.7 64-bit ('ratings': conda)",
   "name": "python3"
  },
  "language_info": {
   "name": "python",
   "version": "3.9.7"
  }
 },
 "nbformat": 4,
 "nbformat_minor": 2
}